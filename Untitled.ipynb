{
 "cells": [
  {
   "cell_type": "code",
   "execution_count": 1,
   "metadata": {},
   "outputs": [
    {
     "name": "stdout",
     "output_type": "stream",
     "text": [
      "/Users/fabricemesidor/Documents/Flatiron School/Projects/Project-1-Microsoft Movies\n"
     ]
    }
   ],
   "source": [
    "cd .."
   ]
  },
  {
   "cell_type": "code",
   "execution_count": 2,
   "metadata": {},
   "outputs": [
    {
     "name": "stdout",
     "output_type": "stream",
     "text": [
      "/Users/fabricemesidor/Documents/Flatiron School/Projects\n"
     ]
    }
   ],
   "source": [
    "cd .."
   ]
  },
  {
   "cell_type": "code",
   "execution_count": 3,
   "metadata": {},
   "outputs": [
    {
     "name": "stdout",
     "output_type": "stream",
     "text": [
      "\u001b[34mProject-1-Microsoft Movies\u001b[m\u001b[m/ Yelp_API_SQL_lab.ipynb\r\n"
     ]
    }
   ],
   "source": [
    "ls"
   ]
  },
  {
   "cell_type": "code",
   "execution_count": 6,
   "metadata": {},
   "outputs": [
    {
     "data": {
      "text/plain": [
       "'/Users/fabricemesidor/Documents/Flatiron School/Projects'"
      ]
     },
     "execution_count": 6,
     "metadata": {},
     "output_type": "execute_result"
    }
   ],
   "source": [
    "pwd"
   ]
  },
  {
   "cell_type": "code",
   "execution_count": null,
   "metadata": {},
   "outputs": [
    {
     "name": "stdout",
     "output_type": "stream",
     "text": [
      "\u001b[32m[I 11:31:11.898 NotebookApp]\u001b[m The port 8888 is already in use, trying another port.\n",
      "\u001b[32m[I 11:31:11.939 NotebookApp]\u001b[m JupyterLab extension loaded from /Users/fabricemesidor/anaconda3/lib/python3.7/site-packages/jupyterlab\n",
      "\u001b[32m[I 11:31:11.939 NotebookApp]\u001b[m JupyterLab application directory is /Users/fabricemesidor/anaconda3/share/jupyter/lab\n",
      "\u001b[32m[I 11:31:11.940 NotebookApp]\u001b[m Serving notebooks from local directory: /Users/fabricemesidor/Documents/Flatiron School/Projects\n",
      "\u001b[32m[I 11:31:11.940 NotebookApp]\u001b[m The Jupyter Notebook is running at:\n",
      "\u001b[32m[I 11:31:11.940 NotebookApp]\u001b[m http://localhost:8889/?token=e0dd3e9d74da50614c93f78afc3a10f04d76ef62b691e32b\n",
      "\u001b[32m[I 11:31:11.940 NotebookApp]\u001b[m Use Control-C to stop this server and shut down all kernels (twice to skip confirmation).\n",
      "[C 11:31:11.948 NotebookApp] \n",
      "    \n",
      "    To access the notebook, open this file in a browser:\n",
      "        file:///Users/fabricemesidor/Library/Jupyter/runtime/nbserver-2122-open.html\n",
      "    Or copy and paste one of these URLs:\n",
      "        http://localhost:8889/?token=e0dd3e9d74da50614c93f78afc3a10f04d76ef62b691e32b\n",
      "\u001b[33m[W 11:31:13.891 NotebookApp]\u001b[m Notebook Yelp_API_SQL_lab.ipynb is not trusted\n",
      "\u001b[32m[I 11:31:15.205 NotebookApp]\u001b[m Kernel started: f7f3a405-b390-4775-9bd1-255bad7a52dd\n",
      "\u001b[32m[I 11:31:15.650 NotebookApp]\u001b[m Adapting to protocol v5.1 for kernel f7f3a405-b390-4775-9bd1-255bad7a52dd\n"
     ]
    }
   ],
   "source": [
    "!jupyter notebook Yelp_API_SQL_lab.ipynb"
   ]
  },
  {
   "cell_type": "code",
   "execution_count": null,
   "metadata": {},
   "outputs": [],
   "source": []
  }
 ],
 "metadata": {
  "kernelspec": {
   "display_name": "Python 3",
   "language": "python",
   "name": "python3"
  },
  "language_info": {
   "codemirror_mode": {
    "name": "ipython",
    "version": 3
   },
   "file_extension": ".py",
   "mimetype": "text/x-python",
   "name": "python",
   "nbconvert_exporter": "python",
   "pygments_lexer": "ipython3",
   "version": "3.7.3"
  }
 },
 "nbformat": 4,
 "nbformat_minor": 2
}
